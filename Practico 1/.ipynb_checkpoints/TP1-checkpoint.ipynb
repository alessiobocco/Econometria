{
 "cells": [
  {
   "cell_type": "markdown",
   "id": "f71d75a8",
   "metadata": {},
   "source": [
    "# Practico 1 de Econometría"
   ]
  },
  {
   "cell_type": "code",
   "execution_count": null,
   "id": "0fdc3168",
   "metadata": {},
   "outputs": [],
   "source": [
    "!pip install pyreadstat"
   ]
  },
  {
   "cell_type": "code",
   "execution_count": 22,
   "id": "90f5920f",
   "metadata": {},
   "outputs": [],
   "source": [
    "import numpy as np                          # analisis numérico \n",
    "import pandas as pd                         # manejo de datos\n",
    "import statsmodels.api as sm                # modelos estadísticos\n",
    "import statsmodels.stats.api as sms         # módulo stats de statsmodels\n",
    "import matplotlib.pyplot as plt             # gráficos básicos\n",
    "import seaborn as sns                       # gráficos más avanzados\n",
    "import pyreadstat                           # lectura de archivos de Stata\n",
    "from scipy import stats                     # medidas de dispersion\n",
    "%matplotlib inline\n",
    "plt.style.use(\"seaborn-white\")"
   ]
  },
  {
   "cell_type": "code",
   "execution_count": null,
   "id": "644f1b50",
   "metadata": {},
   "outputs": [],
   "source": []
  },
  {
   "cell_type": "markdown",
   "id": "77cd8b70",
   "metadata": {},
   "source": [
    "## **Importación y exploración de los datos**"
   ]
  },
  {
   "cell_type": "code",
   "execution_count": 2,
   "id": "ebffe885",
   "metadata": {},
   "outputs": [],
   "source": [
    "path = './data/TP1.dta'\n",
    "data, meta = pyreadstat.read_dta(path)"
   ]
  },
  {
   "cell_type": "markdown",
   "id": "b3a6978e",
   "metadata": {},
   "source": [
    "Revisamos que la importación haya sido exitosa"
   ]
  },
  {
   "cell_type": "code",
   "execution_count": 10,
   "id": "e6b6dd12",
   "metadata": {},
   "outputs": [
    {
     "data": {
      "text/html": [
       "<div>\n",
       "<style scoped>\n",
       "    .dataframe tbody tr th:only-of-type {\n",
       "        vertical-align: middle;\n",
       "    }\n",
       "\n",
       "    .dataframe tbody tr th {\n",
       "        vertical-align: top;\n",
       "    }\n",
       "\n",
       "    .dataframe thead th {\n",
       "        text-align: right;\n",
       "    }\n",
       "</style>\n",
       "<table border=\"1\" class=\"dataframe\">\n",
       "  <thead>\n",
       "    <tr style=\"text-align: right;\">\n",
       "      <th></th>\n",
       "      <th>observacionest</th>\n",
       "      <th>gastoenalimentosyt</th>\n",
       "      <th>ingresosemanalxt</th>\n",
       "    </tr>\n",
       "  </thead>\n",
       "  <tbody>\n",
       "    <tr>\n",
       "      <th>9</th>\n",
       "      <td>10</td>\n",
       "      <td>104.940002</td>\n",
       "      <td>548.700012</td>\n",
       "    </tr>\n",
       "    <tr>\n",
       "      <th>2</th>\n",
       "      <td>3</td>\n",
       "      <td>81.790001</td>\n",
       "      <td>425.000000</td>\n",
       "    </tr>\n",
       "    <tr>\n",
       "      <th>24</th>\n",
       "      <td>25</td>\n",
       "      <td>115.980003</td>\n",
       "      <td>734.400024</td>\n",
       "    </tr>\n",
       "    <tr>\n",
       "      <th>39</th>\n",
       "      <td>40</td>\n",
       "      <td>269.029999</td>\n",
       "      <td>1154.599976</td>\n",
       "    </tr>\n",
       "    <tr>\n",
       "      <th>14</th>\n",
       "      <td>15</td>\n",
       "      <td>129.570007</td>\n",
       "      <td>611.200012</td>\n",
       "    </tr>\n",
       "    <tr>\n",
       "      <th>17</th>\n",
       "      <td>18</td>\n",
       "      <td>82.129997</td>\n",
       "      <td>664.000000</td>\n",
       "    </tr>\n",
       "  </tbody>\n",
       "</table>\n",
       "</div>"
      ],
      "text/plain": [
       "    observacionest  gastoenalimentosyt  ingresosemanalxt\n",
       "9               10          104.940002        548.700012\n",
       "2                3           81.790001        425.000000\n",
       "24              25          115.980003        734.400024\n",
       "39              40          269.029999       1154.599976\n",
       "14              15          129.570007        611.200012\n",
       "17              18           82.129997        664.000000"
      ]
     },
     "execution_count": 10,
     "metadata": {},
     "output_type": "execute_result"
    }
   ],
   "source": [
    "data.sample(6)"
   ]
  },
  {
   "cell_type": "markdown",
   "id": "4c49b6a4",
   "metadata": {},
   "source": [
    "## **Especificación y estimación**\n",
    "\n",
    "Es de nuestro interes modelar los gatos en función de los ingresos "
   ]
  },
  {
   "cell_type": "code",
   "execution_count": 27,
   "id": "cbd4204f",
   "metadata": {},
   "outputs": [],
   "source": [
    "Y = data[\"gastoenalimentosyt\"]\n",
    "X = data[\"ingresosemanalxt\"]"
   ]
  },
  {
   "cell_type": "markdown",
   "id": "8b9ec3f3-3dbd-42f4-ae4e-69e47fee37fb",
   "metadata": {},
   "source": [
    "# Ejercicio 1"
   ]
  },
  {
   "cell_type": "markdown",
   "id": "10b3772f-ea8c-4f88-bf44-6e924c5e8520",
   "metadata": {},
   "source": [
    "Grafique la distribución de la variable y utilizando un histograma. Calcule medidas de dispersión, asimetría y curtosis. Interprete."
   ]
  },
  {
   "cell_type": "code",
   "execution_count": 20,
   "id": "d6dd98e2-be66-4b73-97cb-f10e9b3d1efd",
   "metadata": {},
   "outputs": [
    {
     "name": "stdout",
     "output_type": "stream",
     "text": [
      "La varianza del gasto semanal en alimentos es de 1988.314\n"
     ]
    }
   ],
   "source": [
    "varianza = np.var(Y) # varianza\n",
    "print(f\"La varianza del gasto semanal en alimentos es de {varianza:.3f}\")"
   ]
  },
  {
   "cell_type": "code",
   "execution_count": 21,
   "id": "d43fdeee-8d7f-49dc-91e5-87672720893a",
   "metadata": {},
   "outputs": [
    {
     "name": "stdout",
     "output_type": "stream",
     "text": [
      "La varianza del gasto semanal en alimentos es de 44.591\n"
     ]
    }
   ],
   "source": [
    "des_vest = np.std(Y) # desvio estandar\n",
    "print(f\"El desvío estándar del gasto semanal en alimentos es de {des_vest:.3f}\")"
   ]
  },
  {
   "cell_type": "code",
   "execution_count": 23,
   "id": "1c9f9413-d6e2-4744-9773-d3f2db20a14c",
   "metadata": {},
   "outputs": [
    {
     "name": "stdout",
     "output_type": "stream",
     "text": [
      "La asimetria del gasto semanal en alimentos es de 1.035\n"
     ]
    }
   ],
   "source": [
    "asimetria = stats.skew(Y) # desvio estandar\n",
    "print(f\"La asimetria del gasto semanal en alimentos es de {asimetria:.3f}\")"
   ]
  },
  {
   "cell_type": "code",
   "execution_count": 33,
   "id": "28fcf6d3-56e5-491d-a7de-1fc39d7154d8",
   "metadata": {},
   "outputs": [
    {
     "name": "stdout",
     "output_type": "stream",
     "text": [
      "La curtosis del gasto semanal en alimentos es de 4.130\n"
     ]
    }
   ],
   "source": [
    "curtosis = stats.kurtosis(Y, fisher = False) # desvio estandar\n",
    "print(f\"La curtosis del gasto semanal en alimentos es de {curtosis:.3f}\")"
   ]
  },
  {
   "cell_type": "code",
   "execution_count": 25,
   "id": "e2868704-5d68-46d9-a9b7-bd33df11f053",
   "metadata": {},
   "outputs": [
    {
     "data": {
      "image/png": "[encoded data removed]",
      "text/plain": [
       "<Figure size 432x288 with 1 Axes>"
      ]
     },
     "metadata": {},
     "output_type": "display_data"
    }
   ],
   "source": [
    "plt.hist(Y, density=True, bins=7)  \n",
    "plt.ylabel('Probabilidad')\n",
    "plt.xlabel('Gasto semanal en alimentos');"
   ]
  },
  {
   "cell_type": "markdown",
   "id": "01691524-f778-4e23-80f6-6ea649461c4c",
   "metadata": {},
   "source": [
    "# Ejercicio 2"
   ]
  },
  {
   "cell_type": "markdown",
   "id": "4610daec-d72e-4bb4-af04-20c3305859dd",
   "metadata": {},
   "source": [
    "Rehaga el punto 1) anterior pero con la variable x. Compare con la distribución de y."
   ]
  },
  {
   "cell_type": "code",
   "execution_count": 28,
   "id": "80fd3d00-4f64-4bc2-b5da-277fa2f60c98",
   "metadata": {},
   "outputs": [
    {
     "name": "stdout",
     "output_type": "stream",
     "text": [
      "La varianza del ingreso es de 38311.575\n"
     ]
    }
   ],
   "source": [
    "varianza = np.var(X) # varianza\n",
    "print(f\"La varianza del ingreso es de {varianza:.3f}\")"
   ]
  },
  {
   "cell_type": "code",
   "execution_count": 29,
   "id": "69ab3af4-3515-48b7-8a21-a0882d21d2cf",
   "metadata": {},
   "outputs": [
    {
     "name": "stdout",
     "output_type": "stream",
     "text": [
      "El desvío estándar del ingreso es de 44.591\n"
     ]
    }
   ],
   "source": [
    "des_vest = np.std(Y) # desvio estandar\n",
    "print(f\"El desvío estándar del ingreso es de {des_vest:.3f}\")"
   ]
  },
  {
   "cell_type": "code",
   "execution_count": 30,
   "id": "3bc0eb5e-609f-4f44-a5f4-44c3906495e4",
   "metadata": {},
   "outputs": [
    {
     "name": "stdout",
     "output_type": "stream",
     "text": [
      "La asimetria del ingreso es de 0.219\n"
     ]
    }
   ],
   "source": [
    "asimetria = stats.skew(X) # desvio estandar\n",
    "print(f\"La asimetria del ingreso es de {asimetria:.3f}\")"
   ]
  },
  {
   "cell_type": "code",
   "execution_count": 32,
   "id": "f2bb065d-e171-4177-b23f-cc546ba34f55",
   "metadata": {},
   "outputs": [
    {
     "name": "stdout",
     "output_type": "stream",
     "text": [
      "La curtosis del ingreso es de 2.986\n"
     ]
    }
   ],
   "source": [
    "curtosis = stats.kurtosis(X, fisher = False) # desvio estandar\n",
    "print(f\"La curtosis del ingreso es de {curtosis:.3f}\")"
   ]
  },
  {
   "cell_type": "code",
   "execution_count": 34,
   "id": "8d8fde6c-7f4f-44fe-9a2a-869c49400740",
   "metadata": {},
   "outputs": [
    {
     "data": {
      "image/png": "[encoded data removed]",
      "text/plain": [
       "<Figure size 432x288 with 1 Axes>"
      ]
     },
     "metadata": {},
     "output_type": "display_data"
    }
   ],
   "source": [
    "plt.hist(X, density=True, bins=7)  \n",
    "plt.ylabel('Probabilidad')\n",
    "plt.xlabel('Ingresos semanales');"
   ]
  },
  {
   "cell_type": "markdown",
   "id": "81aee716-ba80-4414-94f3-842be7fb468b",
   "metadata": {},
   "source": [
    "# Ejercicio 3"
   ]
  },
  {
   "cell_type": "markdown",
   "id": "d1e8a420-74c5-40ab-a44d-4d575bcac402",
   "metadata": {},
   "source": [
    "Realice un diagrama de dispersión entre el gasto en alimentos y el ingreso semanal.\n",
    "Comente."
   ]
  },
  {
   "cell_type": "code",
   "execution_count": 42,
   "id": "98a7eca9-12c8-4f4c-97b3-80f5a42595af",
   "metadata": {},
   "outputs": [
    {
     "data": {
      "text/plain": [
       "<function matplotlib.pyplot.show(close=None, block=None)>"
      ]
     },
     "execution_count": 42,
     "metadata": {},
     "output_type": "execute_result"
    },
    {
     "data": {
      "image/png": "[encoded data removed]",
      "text/plain": [
       "<Figure size 576x576 with 1 Axes>"
      ]
     },
     "metadata": {},
     "output_type": "display_data"
    }
   ],
   "source": [
    "plt.figure(figsize=(8,8))\n",
    "plt.scatter(X, Y)  \n",
    "plt.ylabel('Gasto en alimentos', fontsize=18)\n",
    "plt.xlabel('Ingresos semanales', fontsize=18)\n",
    "plt.show"
   ]
  },
  {
   "cell_type": "markdown",
   "id": "e50f2889-a6fc-4d8d-a725-a124c8c2ac65",
   "metadata": {},
   "source": [
    "# Ejercicio 4"
   ]
  },
  {
   "cell_type": "markdown",
   "id": "22cce551-251a-445f-a195-d24e9247db31",
   "metadata": {},
   "source": [
    "Estime por OLS los valores de b1 y b2 para el gasto de los hogares donde la línea de regresión es: 𝑦̂𝑡 = 𝑏1 + 𝑏2 ∙ 𝑥𝑡 ¿Cuál es la dirección de la relación entre ambas variables? Interprete el valor de los estimadores."
   ]
  },
  {
   "cell_type": "markdown",
   "id": "4bbd623d",
   "metadata": {},
   "source": [
    "Ahora sí volvamos a estimar nuestro modelo por OLS utilizando la función `OLS()` de la librería `statsmodels` para su especificación y los métodos `fit()` y `summary()` para la etimación y presentación de los resultados."
   ]
  },
  {
   "cell_type": "code",
   "execution_count": 76,
   "id": "bc9f4813",
   "metadata": {},
   "outputs": [
    {
     "name": "stdout",
     "output_type": "stream",
     "text": [
      "                            OLS Regression Results                            \n",
      "==============================================================================\n",
      "Dep. Variable:     gastoenalimentosyt   R-squared:                       0.317\n",
      "Model:                            OLS   Adj. R-squared:                  0.299\n",
      "Method:                 Least Squares   F-statistic:                     17.65\n",
      "Date:                Sun, 07 Nov 2021   Prob (F-statistic):           0.000155\n",
      "Time:                        19:08:22   Log-Likelihood:                -201.03\n",
      "No. Observations:                  40   AIC:                             406.1\n",
      "Df Residuals:                      38   BIC:                             409.4\n",
      "Df Model:                           1                                         \n",
      "Covariance Type:            nonrobust                                         \n",
      "====================================================================================\n",
      "                       coef    std err          t      P>|t|      [0.025      0.975]\n",
      "------------------------------------------------------------------------------------\n",
      "const               40.7676     22.139      1.841      0.073      -4.050      85.585\n",
      "ingresosemanalxt     0.1283      0.031      4.201      0.000       0.066       0.190\n",
      "==============================================================================\n",
      "Omnibus:                        1.365   Durbin-Watson:                   2.370\n",
      "Prob(Omnibus):                  0.505   Jarque-Bera (JB):                1.077\n",
      "Skew:                           0.397   Prob(JB):                        0.584\n",
      "Kurtosis:                       2.874   Cond. No.                     2.68e+03\n",
      "==============================================================================\n",
      "\n",
      "Notes:\n",
      "[1] Standard Errors assume that the covariance matrix of the errors is correctly specified.\n",
      "[2] The condition number is large, 2.68e+03. This might indicate that there are\n",
      "strong multicollinearity or other numerical problems.\n"
     ]
    }
   ],
   "source": [
    "MiModelo = sm.OLS(Y, sm.add_constant(X))  # Construimos el modelo (agregando una constante con add_constant de Statsmodels)\n",
    "Resultados = MiModelo.fit()               # Estimamos el modelo y guardamos los resultados\n",
    "print(Resultados.summary())               # Mostramos los resultados"
   ]
  },
  {
   "cell_type": "markdown",
   "id": "09840887-2ea3-46e8-9a4a-79e8414b6ed0",
   "metadata": {},
   "source": [
    "# Ejercicio 5"
   ]
  },
  {
   "cell_type": "markdown",
   "id": "886acc97-362a-410f-904d-c0e226b7b8fd",
   "metadata": {},
   "source": [
    "Analice gráficamente si los residuos se comportan bajo el supuesto de homoscedasticidad "
   ]
  },
  {
   "cell_type": "code",
   "execution_count": 44,
   "id": "18f037bb",
   "metadata": {},
   "outputs": [],
   "source": [
    "Residuos = Resultados.resid                    # guardamos los residuos\n",
    "Valores_ajustados = Resultados.predict()       # guardamos los valores ajustados"
   ]
  },
  {
   "cell_type": "markdown",
   "id": "6105a528",
   "metadata": {},
   "source": [
    "## **Diagnóstico: verificación de supuestos sobre el error**\n",
    "\n",
    "Constatemos si la **media de los residuos** es próxima a **cero**."
   ]
  },
  {
   "cell_type": "code",
   "execution_count": 45,
   "id": "6858a5da",
   "metadata": {},
   "outputs": [
    {
     "data": {
      "text/plain": [
       "-4.405364961712621e-14"
      ]
     },
     "execution_count": 45,
     "metadata": {},
     "output_type": "execute_result"
    }
   ],
   "source": [
    "np.mean(Residuos)"
   ]
  },
  {
   "cell_type": "code",
   "execution_count": 47,
   "id": "b423137a-77f3-4c21-a7b9-f4a0d3396679",
   "metadata": {},
   "outputs": [
    {
     "data": {
      "text/plain": [
       "<function matplotlib.pyplot.show(close=None, block=None)>"
      ]
     },
     "execution_count": 47,
     "metadata": {},
     "output_type": "execute_result"
    },
    {
     "data": {
      "image/png": "[encoded data removed]",
      "text/plain": [
       "<Figure size 576x576 with 1 Axes>"
      ]
     },
     "metadata": {},
     "output_type": "display_data"
    }
   ],
   "source": [
    "plt.figure(figsize=(8,8))\n",
    "plt.scatter(Valores_ajustados, Residuos)  \n",
    "plt.axhline(y=0, color='r', linestyle='-')\n",
    "plt.ylabel('Residuos', fontsize=18)\n",
    "plt.xlabel('Valores ajustados', fontsize=18)\n",
    "plt.show"
   ]
  },
  {
   "cell_type": "code",
   "execution_count": 48,
   "id": "a19683e2",
   "metadata": {},
   "outputs": [
    {
     "data": {
      "image/png": "[encoded data removed]",
      "text/plain": [
       "<Figure size 720x360 with 1 Axes>"
      ]
     },
     "metadata": {},
     "output_type": "display_data"
    }
   ],
   "source": [
    "fig, ax = plt.subplots(figsize = (10,5))\n",
    "fig.suptitle(\"Residuos\", fontsize = 18, fontweight = \"bold\")\n",
    "ax.plot(Residuos, color = \"darkblue\")\n",
    "ax.set_xlabel(\"Observaciones\", fontsize = 15)\n",
    "ax.set_ylabel(\"Residuos\", fontsize = 15)\n",
    "ax.tick_params(labelsize = 14)\n",
    "plt.axhline(y=0,color='red')\n",
    "plt.show()"
   ]
  },
  {
   "cell_type": "markdown",
   "id": "00468d89-be60-42b9-aaa4-39cb20d70adf",
   "metadata": {},
   "source": [
    "### **Heteroscedasticidad**\n",
    "Veamos ahora si se cumple el supuesto de **homoscedasticidad** o varianza constante del error."
   ]
  },
  {
   "cell_type": "markdown",
   "id": "9a8cdf4d-1c9b-4f11-b444-8ff5984381d8",
   "metadata": {},
   "source": [
    "Aprovechando el gráfico anterior de los residuos, en principio pareciera que la variabilidad no presenta grandes cambios, por lo cual no parece haber indicios de heteroscedasticidad.\n",
    "\n",
    "Pero para tener más en cuenta la magnitud de los residuos, con independencia de sus signos, es más usual ver el gráfico de los residuos al cuadrado versus los valores ajustados del modelo para revisar si puede haber algún patrón o relación de dependencia."
   ]
  },
  {
   "cell_type": "code",
   "execution_count": 49,
   "id": "aff87e0f-19ff-41d8-ac9b-d81f04dcc0e0",
   "metadata": {},
   "outputs": [
    {
     "data": {
      "image/png": "[encoded data removed]",
      "text/plain": [
       "<Figure size 720x360 with 1 Axes>"
      ]
     },
     "metadata": {},
     "output_type": "display_data"
    }
   ],
   "source": [
    "fig, ax = plt.subplots(figsize = (10,5))\n",
    "fig.suptitle(\"Residuos cuadrados vs.\\nvalores ajustados\", fontsize = 18, fontweight = \"bold\")\n",
    "ax.scatter(Valores_ajustados, Residuos**2, color = \"darkblue\")                  # ** es el operador potencia\n",
    "ax.set_xlabel(\"Valores ajustados de la variable dependiente\", fontsize = 15)\n",
    "ax.set_ylabel(\"Residuos cuadrados\", fontsize = 15)\n",
    "ax.tick_params(labelsize = 14)\n",
    "plt.subplots_adjust(top = 0.85)\n",
    "plt.show()"
   ]
  },
  {
   "cell_type": "markdown",
   "id": "5c4dacd2-82a4-42b4-8d98-f5a12603bc9a",
   "metadata": {},
   "source": [
    "Observando este último gráfico, da la impresión de que la varianza se va incrementando a medida que aumentan los valores ajustados de la variable dependiente (que a su vez son función de las variables explicativas del modelo). Por lo tanto, tenemos un indicio de **posible heteroscedasticidad** que es conveniente revisar con algún contraste más formal."
   ]
  },
  {
   "cell_type": "markdown",
   "id": "c013947c-f3d1-420a-af44-af979e3303a0",
   "metadata": {},
   "source": [
    "# Ejercicio 6"
   ]
  },
  {
   "cell_type": "markdown",
   "id": "6bfa479e-e787-4c0a-ae85-c807b3033c44",
   "metadata": {},
   "source": [
    "Realice un test de hipótesis para testeas homoscedasticidad. ¿Qué puede concluir?"
   ]
  },
  {
   "cell_type": "markdown",
   "id": "cd7ea946",
   "metadata": {},
   "source": [
    "Para esto podemos recurrir a un contraste general de heteroscedasticidad como es el test de **White**, que es una prueba de multiplicadores de Lagrange (LM test). Para llevar adelante este contraste tenemos la función `het_white()` de `statsmodels.stats`. Sus argumentos son los residuos del modelo y el conjunto de variables explicativas del modelo que, si el modelo tiene constante, es bueno tener guardado en un objeto (que volveremos a llamar exog)."
   ]
  },
  {
   "cell_type": "code",
   "execution_count": 50,
   "id": "05909367",
   "metadata": {},
   "outputs": [
    {
     "name": "stderr",
     "output_type": "stream",
     "text": [
      "/Users/alessiobocco/opt/anaconda3/lib/python3.8/site-packages/statsmodels/tsa/tsatools.py:142: FutureWarning: In a future version of pandas all arguments of concat except for the argument 'objs' will be keyword-only\n",
      "  x = pd.concat(x[::order], 1)\n"
     ]
    },
    {
     "data": {
      "text/plain": [
       "Estadístico LM                14.582025\n",
       "p-value del estadístico LM     0.000682\n",
       "Estadístico F                 10.613255\n",
       "p-value del estadístico F      0.000228\n",
       "dtype: float64"
      ]
     },
     "execution_count": 50,
     "metadata": {},
     "output_type": "execute_result"
    }
   ],
   "source": [
    "exog = sm.add_constant(X)\n",
    "ResultadosTestWhite = sms.het_white(Residuos, exog)       # Aplicamos el test y guardamos los resultados\n",
    "Nombres = [\"Estadístico LM\", \"p-value del estadístico LM\", \"Estadístico F\", \"p-value del estadístico F\"]\n",
    "pd.Series(ResultadosTestWhite, index = Nombres)           # Presentamos los resultados de una manera más ordenada"
   ]
  },
  {
   "cell_type": "code",
   "execution_count": null,
   "id": "9b1c9bb4",
   "metadata": {},
   "outputs": [],
   "source": []
  },
  {
   "cell_type": "code",
   "execution_count": 51,
   "id": "d9dd589f",
   "metadata": {},
   "outputs": [
    {
     "data": {
      "text/plain": [
       "Estadístico LM                12.043915\n",
       "p-value del estadístico LM     0.000520\n",
       "Estadístico F                 16.370990\n",
       "p-value del estadístico F      0.000246\n",
       "dtype: float64"
      ]
     },
     "execution_count": 51,
     "metadata": {},
     "output_type": "execute_result"
    }
   ],
   "source": [
    "ResultadosTestBP = sms.het_breuschpagan(Residuos, exog)    # Aplicamos el test y guardamos los resultados\n",
    "pd.Series(ResultadosTestBP, index = Nombres)   "
   ]
  },
  {
   "cell_type": "code",
   "execution_count": null,
   "id": "ff07dead",
   "metadata": {},
   "outputs": [],
   "source": []
  },
  {
   "cell_type": "code",
   "execution_count": 52,
   "id": "431576c8",
   "metadata": {},
   "outputs": [
    {
     "data": {
      "text/plain": [
       "Estadístico F              5.730859\n",
       "p-value                    0.031286\n",
       "Hipótesis alternativa    increasing\n",
       "dtype: object"
      ]
     },
     "execution_count": 52,
     "metadata": {},
     "output_type": "execute_result"
    }
   ],
   "source": [
    "ResultadosTestGQ = sms.het_goldfeldquandt(Y, exog, drop = 0.33)   \n",
    "# observar que a diferencia de los anteriores, requiere como argumentos la variable endógena y las regresoras exógenas\n",
    "# la opción drop indica que porción del centro es descarta\n",
    "# está disponible también la opción alternative con “increasing”, “decreasing”, “two-sided” para distintos tipos de heteroscedasticidad\n",
    "# por defecto prueba \"increasing\"\n",
    "Nombres = [\"Estadístico F\", \"p-value\", \"Hipótesis alternativa\"]   \n",
    "pd.Series(ResultadosTestGQ, index = Nombres)"
   ]
  },
  {
   "cell_type": "markdown",
   "id": "ccc89bb4-4e9d-41ab-bc6c-df8c40bdcf77",
   "metadata": {},
   "source": [
    "# Ejericio 8 "
   ]
  },
  {
   "cell_type": "markdown",
   "id": "85f4c1c5-0ac2-40ae-9a92-420bb46d100e",
   "metadata": {},
   "source": [
    "Calcule los valores estimados del gasto en alimentos y los residuos para cada observación y verifique si la suma de los residuos se aproxima a cero.\n"
   ]
  },
  {
   "cell_type": "code",
   "execution_count": 53,
   "id": "d354d7d0-8315-466e-80f7-70176b177800",
   "metadata": {},
   "outputs": [
    {
     "data": {
      "text/plain": [
       "-1.7479351299698465e-12"
      ]
     },
     "execution_count": 53,
     "metadata": {},
     "output_type": "execute_result"
    }
   ],
   "source": [
    "np.sum(Residuos)"
   ]
  },
  {
   "cell_type": "code",
   "execution_count": null,
   "id": "cc168761-aec1-43a6-8497-d79c1ac3c7eb",
   "metadata": {},
   "outputs": [],
   "source": []
  },
  {
   "cell_type": "markdown",
   "id": "0d26d88f-03ae-41f3-bc86-ac132f679d37",
   "metadata": {},
   "source": [
    "# Ejercicio 10"
   ]
  },
  {
   "cell_type": "markdown",
   "id": "03451971-9d60-451d-a578-70735156ed69",
   "metadata": {},
   "source": [
    "Estime cuál sería el gasto en alimentos de un individuo que gana $ 750 por semana."
   ]
  },
  {
   "cell_type": "code",
   "execution_count": 80,
   "id": "6b2f2dc0-36b1-469f-8624-71bcdc53338f",
   "metadata": {},
   "outputs": [
    {
     "data": {
      "text/html": [
       "<div>\n",
       "<style scoped>\n",
       "    .dataframe tbody tr th:only-of-type {\n",
       "        vertical-align: middle;\n",
       "    }\n",
       "\n",
       "    .dataframe tbody tr th {\n",
       "        vertical-align: top;\n",
       "    }\n",
       "\n",
       "    .dataframe thead th {\n",
       "        text-align: right;\n",
       "    }\n",
       "</style>\n",
       "<table border=\"1\" class=\"dataframe\">\n",
       "  <thead>\n",
       "    <tr style=\"text-align: right;\">\n",
       "      <th></th>\n",
       "      <th>mean</th>\n",
       "      <th>mean_se</th>\n",
       "      <th>mean_ci_lower</th>\n",
       "      <th>mean_ci_upper</th>\n",
       "      <th>obs_ci_lower</th>\n",
       "      <th>obs_ci_upper</th>\n",
       "    </tr>\n",
       "  </thead>\n",
       "  <tbody>\n",
       "    <tr>\n",
       "      <th>0</th>\n",
       "      <td>136.984007</td>\n",
       "      <td>6.184902</td>\n",
       "      <td>124.463327</td>\n",
       "      <td>149.504687</td>\n",
       "      <td>59.433628</td>\n",
       "      <td>214.534387</td>\n",
       "    </tr>\n",
       "  </tbody>\n",
       "</table>\n",
       "</div>"
      ],
      "text/plain": [
       "         mean   mean_se  mean_ci_lower  mean_ci_upper  obs_ci_lower  \\\n",
       "0  136.984007  6.184902     124.463327     149.504687     59.433628   \n",
       "\n",
       "   obs_ci_upper  \n",
       "0    214.534387  "
      ]
     },
     "execution_count": 80,
     "metadata": {},
     "output_type": "execute_result"
    }
   ],
   "source": [
    "prediction = Resultados.get_prediction(exog=[1,750]) \n",
    "prediction.summary_frame(alpha=0.05)"
   ]
  },
  {
   "cell_type": "markdown",
   "id": "f78a5c9a-4a35-49c5-9a64-1b930bf9ae11",
   "metadata": {},
   "source": [
    "A agregar una constante con add_constante, los datos de entrada se transforman en un array de dimensión 2, con un 1 delante de cada valor de X. Es por ello que se debe agregar un 1 delante del valor a predecir."
   ]
  },
  {
   "cell_type": "code",
   "execution_count": null,
   "id": "95630be3-1a7a-412b-8a6c-2594079aae36",
   "metadata": {},
   "outputs": [],
   "source": []
  }
 ],
 "metadata": {
  "kernelspec": {
   "display_name": "Python 3",
   "language": "python",
   "name": "python3"
  },
  "language_info": {
   "codemirror_mode": {
    "name": "ipython",
    "version": 3
   },
   "file_extension": ".py",
   "mimetype": "text/x-python",
   "name": "python",
   "nbconvert_exporter": "python",
   "pygments_lexer": "ipython3",
   "version": "3.8.8"
  }
 },
 "nbformat": 4,
 "nbformat_minor": 5
}
